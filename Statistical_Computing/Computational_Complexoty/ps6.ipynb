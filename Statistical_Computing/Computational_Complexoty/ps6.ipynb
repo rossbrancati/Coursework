{
 "cells": [
  {
   "cell_type": "markdown",
   "id": "e8ae1fff",
   "metadata": {},
   "source": [
    "Ross Brancati\n",
    "<br>\n",
    "November 16, 2021\n",
    "<br>\n",
    "Stat535 Problem Set 6"
   ]
  },
  {
   "cell_type": "code",
   "execution_count": 6,
   "id": "0954fcf0",
   "metadata": {},
   "outputs": [],
   "source": [
    "#import library for pasting image\n",
    "from IPython.display import Image"
   ]
  },
  {
   "cell_type": "markdown",
   "id": "3c2ded3d",
   "metadata": {},
   "source": [
    "# (a)\n",
    "A recursive program is used when a problem is divided into subproblems that themselves look just like the original problem, only with different inputs. The tree diagram for this particular problem with the function power(x,y) when y=2 looks like: ![title](tree_structure.png)"
   ]
  },
  {
   "cell_type": "markdown",
   "id": "6c8d38b6",
   "metadata": {},
   "source": [
    "# (b)\n",
    "The base case is power(x,0), which translates to raising x^0 which will always return 1.  "
   ]
  },
  {
   "cell_type": "markdown",
   "id": "a9544ec1",
   "metadata": {},
   "source": [
    "# (c) recursive function"
   ]
  },
  {
   "cell_type": "code",
   "execution_count": 92,
   "id": "44506cc0",
   "metadata": {},
   "outputs": [],
   "source": [
    "#Recursive power function\n",
    "def power(x,y):\n",
    "    #Base case returns 1\n",
    "    if y==0:\n",
    "        return 1\n",
    "    #If base case is passed, power function is called recurseively\n",
    "    elif y>=1: \n",
    "        return x*power(x,y-1)"
   ]
  },
  {
   "cell_type": "code",
   "execution_count": 93,
   "id": "bdbc4dbd",
   "metadata": {},
   "outputs": [
    {
     "name": "stdout",
     "output_type": "stream",
     "text": [
      "x^y = 3125\n",
      "Total time to execute function:\n",
      "3.2610000744170975e-06\n"
     ]
    }
   ],
   "source": [
    "#Testing power function and measuring time to execute\n",
    "#Import timeit to compute total time it will take to run a function\n",
    "import timeit\n",
    "#Assign x and y to integers\n",
    "x=5\n",
    "y=5\n",
    "#Print x^y\n",
    "print('x^y =',power(x,y))\n",
    "#Print the total time it will take to execute this recursive function, which is compared to \n",
    "#The memoized method. This should take longer then the memoized function\n",
    "print('Total time to execute function:')\n",
    "print(timeit.timeit(\"power(x,y)\", globals=globals(), number=1))"
   ]
  },
  {
   "cell_type": "markdown",
   "id": "c5989fcc",
   "metadata": {},
   "source": [
    "# (d) recursive function with memoization"
   ]
  },
  {
   "cell_type": "code",
   "execution_count": 90,
   "id": "94d98a86",
   "metadata": {},
   "outputs": [],
   "source": [
    "#Recursive power function with memoization\n",
    "#Generate a dictionary to store previously computed powers\n",
    "memo = {}\n",
    "#Define the function\n",
    "def power_memo(x,y):\n",
    "    #First, we search to see if we have already computed x^y. \n",
    "    #If it is in the dictionary, return it's value\n",
    "    if y in memo:\n",
    "        return memo[y]\n",
    "    #Next, check and store the base case which is when y=0\n",
    "    elif y==0:\n",
    "        memo[y] = 1\n",
    "    #Finally, if y is greater than or equal to 1, recursively call the power_memo function\n",
    "    elif y>=1:\n",
    "        memo[y] = x*power_memo(x,y-1)\n",
    "    #Return the value assocated with the exponent\n",
    "    return memo[y]"
   ]
  },
  {
   "cell_type": "markdown",
   "id": "84141388",
   "metadata": {},
   "source": [
    "Note: before running the test cell below, make sure the memoized function is ran again because the memo dictionary must be reset to get correct results"
   ]
  },
  {
   "cell_type": "code",
   "execution_count": 91,
   "id": "5d5b3fd8",
   "metadata": {},
   "outputs": [
    {
     "name": "stdout",
     "output_type": "stream",
     "text": [
      "x^y = 3125\n",
      "Total time to execute memoized function:\n",
      "1.6919998415687587e-06\n"
     ]
    }
   ],
   "source": [
    "#For testing purposes\n",
    "#Assign x and y. Using same values for x and y as above to compare the computational complexity\n",
    "#of the memoized method compared to normal recursive method\n",
    "x=5\n",
    "y=5\n",
    "#Print x^y\n",
    "print('x^y =',power_memo(x,y))\n",
    "#Print the total time it takes to execute function, which should be less than the recursive \n",
    "#method implemented above\n",
    "print('Total time to execute memoized function:')\n",
    "print(timeit.timeit(\"power_memo(x,y)\", globals=globals(), number=1))"
   ]
  },
  {
   "cell_type": "markdown",
   "id": "7760b503",
   "metadata": {},
   "source": [
    "# (e) recursive function as bottom-up (iterative)"
   ]
  },
  {
   "cell_type": "code",
   "execution_count": 117,
   "id": "b2afecff",
   "metadata": {},
   "outputs": [],
   "source": [
    "#Power function using bottom-up (iterative) approach\n",
    "#Define the function\n",
    "def power_iter(x,y):\n",
    "    #Create and empty dictionary to store power values\n",
    "    values = {}\n",
    "    #Loop over exponents up to y\n",
    "    for n in range(y+1):\n",
    "        #Store the exponent of y=0 at 1 in the dictionary\n",
    "        if n==0:\n",
    "            values[n] = 1\n",
    "        #If the exponent is greater than or equal to 1, multiply the value of x by the previous \n",
    "        #power value stored in values\n",
    "        elif n>=1:\n",
    "            values[n] = x*values[n-1]\n",
    "    #return the last power value in the dictionary \n",
    "    return values[y]"
   ]
  },
  {
   "cell_type": "code",
   "execution_count": 123,
   "id": "5da6a4f9",
   "metadata": {},
   "outputs": [
    {
     "name": "stdout",
     "output_type": "stream",
     "text": [
      "x^y = 3125\n",
      "Total time to execute memoized function:\n",
      "4.5139995563658886e-06\n"
     ]
    }
   ],
   "source": [
    "#For testing purposes\n",
    "#Assign x and y. Using same values for x and y as above to compare the computational complexity\n",
    "#of the bottom-up (iterative) method compared to normal recursive method\n",
    "x=5\n",
    "y=5\n",
    "#Print x^y\n",
    "print('x^y =',power_iter(x,y))\n",
    "#Print the total time it takes to execute function, which should be less than the recursive \n",
    "#method and about equal to the memoized method\n",
    "print('Total time to execute memoized function:')\n",
    "print(timeit.timeit(\"power_iter(x,y)\", globals=globals(), number=1))"
   ]
  }
 ],
 "metadata": {
  "kernelspec": {
   "display_name": "Python 3",
   "language": "python",
   "name": "python3"
  },
  "language_info": {
   "codemirror_mode": {
    "name": "ipython",
    "version": 3
   },
   "file_extension": ".py",
   "mimetype": "text/x-python",
   "name": "python",
   "nbconvert_exporter": "python",
   "pygments_lexer": "ipython3",
   "version": "3.8.8"
  }
 },
 "nbformat": 4,
 "nbformat_minor": 5
}
