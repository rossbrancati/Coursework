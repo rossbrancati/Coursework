{
 "cells": [
  {
   "cell_type": "markdown",
   "metadata": {},
   "source": [
    "# Problem Set 4"
   ]
  },
  {
   "cell_type": "code",
   "execution_count": 1,
   "metadata": {},
   "outputs": [],
   "source": [
    "import numpy as np\n",
    "import pandas as pd\n",
    "import random\n",
    "\n",
    "import sklearn.model_selection as model_selection\n",
    "from sklearn.linear_model import LogisticRegression, LinearRegression\n",
    "from sklearn.model_selection import train_test_split\n",
    "\n",
    "from sklearn.model_selection import cross_val_predict, cross_validate\n",
    "from sklearn import linear_model\n",
    "\n",
    "\n",
    "import matplotlib.pyplot as plt\n",
    "%matplotlib inline"
   ]
  },
  {
   "cell_type": "markdown",
   "metadata": {},
   "source": [
    "## Problem A: Import 10000 records from the NYC yellow cab data set\n",
    "Import 100 records from the NYC yellow cab data set. We're going to be looking at the relationship between trip distance and tip amount. Are passengers fwho travel further tipping better than others?\n",
    "\n",
    "Our first task is to import and clean the data. Import the first 10000 rows of the Jan 2017 yellow cab NYC trip data into a pandas data frame. Create a view on trip_distance and tip_amount. Plot the trip_distance vs. tip amount in a scatter plot.\n",
    "\n",
    "The data set can be found here:\n",
    "<http://www.nyc.gov/html/tlc/html/about/trip_record_data.shtml>"
   ]
  },
  {
   "cell_type": "code",
   "execution_count": 4,
   "metadata": {},
   "outputs": [
    {
     "data": {
      "text/html": [
       "<div>\n",
       "<style scoped>\n",
       "    .dataframe tbody tr th:only-of-type {\n",
       "        vertical-align: middle;\n",
       "    }\n",
       "\n",
       "    .dataframe tbody tr th {\n",
       "        vertical-align: top;\n",
       "    }\n",
       "\n",
       "    .dataframe thead th {\n",
       "        text-align: right;\n",
       "    }\n",
       "</style>\n",
       "<table border=\"1\" class=\"dataframe\">\n",
       "  <thead>\n",
       "    <tr style=\"text-align: right;\">\n",
       "      <th></th>\n",
       "      <th>trip_distance</th>\n",
       "      <th>tip_amount</th>\n",
       "    </tr>\n",
       "  </thead>\n",
       "  <tbody>\n",
       "    <tr>\n",
       "      <th>0</th>\n",
       "      <td>3.30</td>\n",
       "      <td>2.00</td>\n",
       "    </tr>\n",
       "    <tr>\n",
       "      <th>1</th>\n",
       "      <td>0.90</td>\n",
       "      <td>1.45</td>\n",
       "    </tr>\n",
       "    <tr>\n",
       "      <th>2</th>\n",
       "      <td>1.10</td>\n",
       "      <td>1.00</td>\n",
       "    </tr>\n",
       "    <tr>\n",
       "      <th>3</th>\n",
       "      <td>1.10</td>\n",
       "      <td>1.70</td>\n",
       "    </tr>\n",
       "    <tr>\n",
       "      <th>4</th>\n",
       "      <td>0.02</td>\n",
       "      <td>0.00</td>\n",
       "    </tr>\n",
       "  </tbody>\n",
       "</table>\n",
       "</div>"
      ],
      "text/plain": [
       "   trip_distance  tip_amount\n",
       "0           3.30        2.00\n",
       "1           0.90        1.45\n",
       "2           1.10        1.00\n",
       "3           1.10        1.70\n",
       "4           0.02        0.00"
      ]
     },
     "metadata": {},
     "output_type": "display_data"
    },
    {
     "data": {
      "text/plain": [
       "Text(0, 0.5, 'Tip Amount ($)')"
      ]
     },
     "execution_count": 4,
     "metadata": {},
     "output_type": "execute_result"
    },
    {
     "data": {
      "image/png": "[encoded data removed]",
      "text/plain": [
       "<Figure size 432x288 with 1 Axes>"
      ]
     },
     "metadata": {
      "needs_background": "light"
     },
     "output_type": "display_data"
    }
   ],
   "source": [
    "# IMPLEMENT ME (Please make sure you name the dataframe as 'df1' and don't modify 'df1' in later parts.)\n",
    "# (Read your data from \"yellow_tripdata_2017-01.csv\".)\n",
    "df1 = pd.read_csv('https://s3.amazonaws.com/nyc-tlc/trip+data/yellow_tripdata_2017-01.csv', nrows=10000)\n",
    "#assign a variable to view the header of the data file\n",
    "sample_df = df1[['trip_distance','tip_amount']]\n",
    "display(sample_df.head())\n",
    "#create a scatter plot of the trip_distance and tip_amount\n",
    "plt.scatter(df1.trip_distance, df1.tip_amount)\n",
    "#add plot title and axes labels\n",
    "plt.title('Tip Amount for Various Trip Distances')\n",
    "plt.xlabel('Trip Distance (miles)')\n",
    "plt.ylabel('Tip Amount ($)')"
   ]
  },
  {
   "cell_type": "markdown",
   "metadata": {},
   "source": [
    "## Problem B: Remove the people who tipped nothing\n",
    "People who tipped nothing aren't very useful for our needs. We are interesteded in how much they tipped when they were generous enough to do so. Similarly, we don't care about people that tipped for very short rides. Remove all records where the trip distance was less than 0.5 miles. Create a data frame with the records of zero (or less) tips removed and plot the relationship between the trip distance and the tip amount. Can  the resulting data frame 'df'."
   ]
  },
  {
   "cell_type": "code",
   "execution_count": 5,
   "metadata": {},
   "outputs": [
    {
     "name": "stdout",
     "output_type": "stream",
     "text": [
      "(4402, 17)\n"
     ]
    },
    {
     "data": {
      "text/html": [
       "<div>\n",
       "<style scoped>\n",
       "    .dataframe tbody tr th:only-of-type {\n",
       "        vertical-align: middle;\n",
       "    }\n",
       "\n",
       "    .dataframe tbody tr th {\n",
       "        vertical-align: top;\n",
       "    }\n",
       "\n",
       "    .dataframe thead th {\n",
       "        text-align: right;\n",
       "    }\n",
       "</style>\n",
       "<table border=\"1\" class=\"dataframe\">\n",
       "  <thead>\n",
       "    <tr style=\"text-align: right;\">\n",
       "      <th></th>\n",
       "      <th>VendorID</th>\n",
       "      <th>tpep_pickup_datetime</th>\n",
       "      <th>tpep_dropoff_datetime</th>\n",
       "      <th>passenger_count</th>\n",
       "      <th>trip_distance</th>\n",
       "      <th>RatecodeID</th>\n",
       "      <th>store_and_fwd_flag</th>\n",
       "      <th>PULocationID</th>\n",
       "      <th>DOLocationID</th>\n",
       "      <th>payment_type</th>\n",
       "      <th>fare_amount</th>\n",
       "      <th>extra</th>\n",
       "      <th>mta_tax</th>\n",
       "      <th>tip_amount</th>\n",
       "      <th>tolls_amount</th>\n",
       "      <th>improvement_surcharge</th>\n",
       "      <th>total_amount</th>\n",
       "    </tr>\n",
       "  </thead>\n",
       "  <tbody>\n",
       "    <tr>\n",
       "      <th>0</th>\n",
       "      <td>1</td>\n",
       "      <td>2017-01-09 11:13:28</td>\n",
       "      <td>2017-01-09 11:25:45</td>\n",
       "      <td>1</td>\n",
       "      <td>3.30</td>\n",
       "      <td>1</td>\n",
       "      <td>N</td>\n",
       "      <td>263</td>\n",
       "      <td>161</td>\n",
       "      <td>1</td>\n",
       "      <td>12.5</td>\n",
       "      <td>0.0</td>\n",
       "      <td>0.5</td>\n",
       "      <td>2.00</td>\n",
       "      <td>0.0</td>\n",
       "      <td>0.3</td>\n",
       "      <td>15.30</td>\n",
       "    </tr>\n",
       "    <tr>\n",
       "      <th>1</th>\n",
       "      <td>1</td>\n",
       "      <td>2017-01-09 11:32:27</td>\n",
       "      <td>2017-01-09 11:36:01</td>\n",
       "      <td>1</td>\n",
       "      <td>0.90</td>\n",
       "      <td>1</td>\n",
       "      <td>N</td>\n",
       "      <td>186</td>\n",
       "      <td>234</td>\n",
       "      <td>1</td>\n",
       "      <td>5.0</td>\n",
       "      <td>0.0</td>\n",
       "      <td>0.5</td>\n",
       "      <td>1.45</td>\n",
       "      <td>0.0</td>\n",
       "      <td>0.3</td>\n",
       "      <td>7.25</td>\n",
       "    </tr>\n",
       "    <tr>\n",
       "      <th>2</th>\n",
       "      <td>1</td>\n",
       "      <td>2017-01-09 11:38:20</td>\n",
       "      <td>2017-01-09 11:42:05</td>\n",
       "      <td>1</td>\n",
       "      <td>1.10</td>\n",
       "      <td>1</td>\n",
       "      <td>N</td>\n",
       "      <td>164</td>\n",
       "      <td>161</td>\n",
       "      <td>1</td>\n",
       "      <td>5.5</td>\n",
       "      <td>0.0</td>\n",
       "      <td>0.5</td>\n",
       "      <td>1.00</td>\n",
       "      <td>0.0</td>\n",
       "      <td>0.3</td>\n",
       "      <td>7.30</td>\n",
       "    </tr>\n",
       "    <tr>\n",
       "      <th>3</th>\n",
       "      <td>1</td>\n",
       "      <td>2017-01-09 11:52:13</td>\n",
       "      <td>2017-01-09 11:57:36</td>\n",
       "      <td>1</td>\n",
       "      <td>1.10</td>\n",
       "      <td>1</td>\n",
       "      <td>N</td>\n",
       "      <td>236</td>\n",
       "      <td>75</td>\n",
       "      <td>1</td>\n",
       "      <td>6.0</td>\n",
       "      <td>0.0</td>\n",
       "      <td>0.5</td>\n",
       "      <td>1.70</td>\n",
       "      <td>0.0</td>\n",
       "      <td>0.3</td>\n",
       "      <td>8.50</td>\n",
       "    </tr>\n",
       "    <tr>\n",
       "      <th>6</th>\n",
       "      <td>2</td>\n",
       "      <td>2017-01-01 00:00:02</td>\n",
       "      <td>2017-01-01 00:39:22</td>\n",
       "      <td>4</td>\n",
       "      <td>7.75</td>\n",
       "      <td>1</td>\n",
       "      <td>N</td>\n",
       "      <td>186</td>\n",
       "      <td>36</td>\n",
       "      <td>1</td>\n",
       "      <td>22.0</td>\n",
       "      <td>0.5</td>\n",
       "      <td>0.5</td>\n",
       "      <td>4.66</td>\n",
       "      <td>0.0</td>\n",
       "      <td>0.3</td>\n",
       "      <td>27.96</td>\n",
       "    </tr>\n",
       "  </tbody>\n",
       "</table>\n",
       "</div>"
      ],
      "text/plain": [
       "   VendorID tpep_pickup_datetime tpep_dropoff_datetime  passenger_count  \\\n",
       "0         1  2017-01-09 11:13:28   2017-01-09 11:25:45                1   \n",
       "1         1  2017-01-09 11:32:27   2017-01-09 11:36:01                1   \n",
       "2         1  2017-01-09 11:38:20   2017-01-09 11:42:05                1   \n",
       "3         1  2017-01-09 11:52:13   2017-01-09 11:57:36                1   \n",
       "6         2  2017-01-01 00:00:02   2017-01-01 00:39:22                4   \n",
       "\n",
       "   trip_distance  RatecodeID store_and_fwd_flag  PULocationID  DOLocationID  \\\n",
       "0           3.30           1                  N           263           161   \n",
       "1           0.90           1                  N           186           234   \n",
       "2           1.10           1                  N           164           161   \n",
       "3           1.10           1                  N           236            75   \n",
       "6           7.75           1                  N           186            36   \n",
       "\n",
       "   payment_type  fare_amount  extra  mta_tax  tip_amount  tolls_amount  \\\n",
       "0             1         12.5    0.0      0.5        2.00           0.0   \n",
       "1             1          5.0    0.0      0.5        1.45           0.0   \n",
       "2             1          5.5    0.0      0.5        1.00           0.0   \n",
       "3             1          6.0    0.0      0.5        1.70           0.0   \n",
       "6             1         22.0    0.5      0.5        4.66           0.0   \n",
       "\n",
       "   improvement_surcharge  total_amount  \n",
       "0                    0.3         15.30  \n",
       "1                    0.3          7.25  \n",
       "2                    0.3          7.30  \n",
       "3                    0.3          8.50  \n",
       "6                    0.3         27.96  "
      ]
     },
     "metadata": {},
     "output_type": "display_data"
    },
    {
     "data": {
      "text/plain": [
       "[<matplotlib.lines.Line2D at 0x7ffaf6bb46d0>]"
      ]
     },
     "execution_count": 5,
     "metadata": {},
     "output_type": "execute_result"
    },
    {
     "data": {
      "image/png": "[encoded data removed]",
      "text/plain": [
       "<Figure size 432x288 with 1 Axes>"
      ]
     },
     "metadata": {
      "needs_background": "light"
     },
     "output_type": "display_data"
    }
   ],
   "source": [
    "# IMPLEMENT ME (Please make sure you name the dataframe as 'df2' and don't modify 'df2' in later parts.)\n",
    "#remove the records of data that have tip amounts less than $0 or (which is the | symbol) trips that were less than 0.5 miles\n",
    "df2 = df1[(df1.tip_amount>0) & (df1.trip_distance>=0.5)] \n",
    "print(df2.shape)\n",
    "#show the first five records of the new dataframe\n",
    "display(df2.head())\n",
    "#create a scatter plot of the data and add a linear regression line\n",
    "plt.scatter(df2.trip_distance, df2.tip_amount)\n",
    "#Add plot title and axes labels\n",
    "plt.title('Tip Amount for Various Trip Distances\\nExcluding Trips Less Than 0.5 Miles\\n(orange line represenents linear regression line)')\n",
    "plt.xlabel('Trip Distance (miles)')\n",
    "plt.ylabel('Tip Amount ($)')\n",
    "#generate coefficients for linear regression line\n",
    "m, b = np.polyfit(df2.trip_distance, df2.tip_amount, 1)\n",
    "#plot the linear regression line\n",
    "plt.plot(df2.trip_distance, m*df2.trip_distance+b, color='orange')"
   ]
  },
  {
   "cell_type": "markdown",
   "metadata": {},
   "source": [
    "# Problem C: Fit a linear regression to the resulting trip_distance vs. tip_amount data"
   ]
  },
  {
   "cell_type": "code",
   "execution_count": 6,
   "metadata": {},
   "outputs": [],
   "source": [
    "X = df2['trip_distance'].values.reshape(-1,1)\n",
    "y = df2['tip_amount']"
   ]
  },
  {
   "cell_type": "code",
   "execution_count": 7,
   "metadata": {},
   "outputs": [
    {
     "data": {
      "text/plain": [
       "LinearRegression(fit_intercept=False)"
      ]
     },
     "execution_count": 7,
     "metadata": {},
     "output_type": "execute_result"
    }
   ],
   "source": [
    "# IMPLEMENT ME\n",
    "linreg=LinearRegression(fit_intercept=False)\n",
    "linreg.fit(X,y)"
   ]
  },
  {
   "cell_type": "markdown",
   "metadata": {},
   "source": [
    "## Problem D: Look at the regression coefficients\n",
    "Print the regression coefficients (intercept and slope) and in a markdown cell comment about their values. Do they make sense? What do they tell you?"
   ]
  },
  {
   "cell_type": "code",
   "execution_count": 8,
   "metadata": {},
   "outputs": [
    {
     "name": "stdout",
     "output_type": "stream",
     "text": [
      "Intercept: 0.0\n",
      "Slope: 0.6227420644126486\n"
     ]
    }
   ],
   "source": [
    "# IMPLEMENT ME (Save the value of intercept as 'a' and the value of slope as 'b'.\n",
    "# Make sure you only save the value of slope as 'b' instead of an array.)\n",
    "\n",
    "#save the intercept as a\n",
    "a = linreg.intercept_\n",
    "#save the slope\n",
    "slope = linreg.coef_\n",
    "#save the value of the slope as b\n",
    "b = slope[0]\n",
    "#print the slope and intercept\n",
    "print('Intercept:', a)\n",
    "print('Slope:', b)"
   ]
  },
  {
   "cell_type": "markdown",
   "metadata": {},
   "source": [
    "Both the slope and intercept for the linear regression make sense. The intercept of 0 simply means that the linear regression line intersects the y-axis at a value of 0, and since there are many tip amounts around 0, we should expect the intercept to be somewhere around this value. The positive value of the slope means that there is a positive relationship between the trip distance and the tip amount. In other words, longer trips typically mean larger tips for the taxi drive, at least in these records. From the scatterplot in Problem B, it appears that this is true because on average, increasing the trip distance also increases the tip amount. "
   ]
  },
  {
   "cell_type": "markdown",
   "metadata": {},
   "source": [
    "## Problem E: Evaluate the model\n",
    "Just because the model fit the data set doesn't mean it's very predictive. Run a 10-fold cross-validation and compute the average mean absolute deviation. Show the result. In a markdown cell comment on what that number means in terms of predictive accuracy."
   ]
  },
  {
   "cell_type": "code",
   "execution_count": 9,
   "metadata": {},
   "outputs": [
    {
     "data": {
      "text/plain": [
       "{'fit_time': array([0.00374103, 0.00242567, 0.00268793, 0.00183177, 0.00725102,\n",
       "        0.00219011, 0.00250196, 0.00149417, 0.00119901, 0.00092292]),\n",
       " 'score_time': array([0.00120306, 0.00095415, 0.00074887, 0.00066829, 0.00102973,\n",
       "        0.00085402, 0.00095296, 0.00049996, 0.00041389, 0.00054002]),\n",
       " 'test_score': array([-1.21759056, -1.32441453, -1.1982527 , -1.13831936, -1.29449843,\n",
       "        -1.10432772, -1.240895  , -1.16675271, -1.0800301 , -0.97469451])}"
      ]
     },
     "execution_count": 9,
     "metadata": {},
     "output_type": "execute_result"
    }
   ],
   "source": [
    "random.seed(5)\n",
    "# IMPLEMENT ME (Save the computed average mean absolute deviation as 'c'.)\n",
    "scores = cross_validate(linreg, X, y, cv=10, scoring='neg_mean_absolute_error', return_train_score=False)\n",
    "scores"
   ]
  },
  {
   "cell_type": "code",
   "execution_count": 11,
   "metadata": {},
   "outputs": [
    {
     "name": "stdout",
     "output_type": "stream",
     "text": [
      "Average Mean Absolute Deviation: 1.1739775607052036\n"
     ]
    }
   ],
   "source": [
    "# get average of the mean absolute deviation scores for 10-fold cross-validation\n",
    "average_deviation = np.mean(-1*scores['test_score'])\n",
    "print('Average Mean Absolute Deviation:', average_deviation)"
   ]
  },
  {
   "cell_type": "markdown",
   "metadata": {},
   "source": [
    "The mean absolute error is a metric used to evaluate the predictive performance of a model, in this case linear regression. This value represents the absolute difference between the predicted values and the true values. Since we are trying to predict the tip amount from the trip distance, this error is how far off the predicted tip amount is from the true tip amount. So, on average, the predicted tip amount is off by \\\\$1.17. In my opinion, this model is rather good at predicting this value, but we would have to confirm this on a validation set of data to endure the model is not overfitting on the training data. By looking at the scatter plot of the trip distances and tip amounts, most of the tip amounts fall within the range of \\\\$0-\\\\$20, so if the error is only \\\\$1.17 on average, I would say that this model is good at predicting. In terms of trying to get better tips based on trip distance, and the given the current day value of the US dollar, I do not think that \\\\$1.17 is a bad error at all. In terms of a taxi cab driver, if he uses this model to estimate how much of a tip he will get, he may be off by this error amount."
   ]
  },
  {
   "cell_type": "code",
   "execution_count": null,
   "metadata": {},
   "outputs": [],
   "source": []
  }
 ],
 "metadata": {
  "kernelspec": {
   "display_name": "Python 3",
   "language": "python",
   "name": "python3"
  },
  "language_info": {
   "codemirror_mode": {
    "name": "ipython",
    "version": 3
   },
   "file_extension": ".py",
   "mimetype": "text/x-python",
   "name": "python",
   "nbconvert_exporter": "python",
   "pygments_lexer": "ipython3",
   "version": "3.8.8"
  }
 },
 "nbformat": 4,
 "nbformat_minor": 2
}
