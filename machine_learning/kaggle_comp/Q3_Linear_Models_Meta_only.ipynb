{
 "cells": [
  {
   "cell_type": "markdown",
   "id": "ee16d086",
   "metadata": {},
   "source": [
    "**This approach is only using the meta data with linear regression because the performance with the image data was very poor.**"
   ]
  },
  {
   "cell_type": "markdown",
   "id": "304a565b",
   "metadata": {},
   "source": [
    "**Models Attempted in this Notebook:**\n",
    "1. Linear Regression\n",
    "2. Ridge Regression\n",
    "3. Lasso Regression\n",
    "4. Logistic Regression"
   ]
  },
  {
   "cell_type": "code",
   "execution_count": 53,
   "id": "0ef91547",
   "metadata": {},
   "outputs": [],
   "source": [
    "#import libraries\n",
    "import numpy as np\n",
    "import pandas as pd\n",
    "import matplotlib.pyplot as plt \n",
    "import seaborn as sns\n",
    "import re\n",
    "\n",
    "import math\n",
    "import sklearn\n",
    "from sklearn.model_selection import train_test_split\n",
    "from sklearn.preprocessing import MinMaxScaler\n",
    "from sklearn.linear_model import Ridge\n",
    "from sklearn.linear_model import Lasso\n",
    "from sklearn.linear_model import LinearRegression\n",
    "from sklearn.linear_model import LogisticRegression\n",
    "from sklearn.model_selection import cross_val_score\n",
    "from sklearn.model_selection import KFold\n",
    "from sklearn.model_selection import GridSearchCV\n",
    "from sklearn.pipeline import make_pipeline\n",
    "\n",
    "import warnings # supress warnings\n",
    "warnings.filterwarnings('ignore')"
   ]
  },
  {
   "cell_type": "code",
   "execution_count": 54,
   "id": "b1cfd248",
   "metadata": {},
   "outputs": [],
   "source": [
    "#import the data\n",
    "meta_data = pd.read_csv('petfinder-pawpularity-score/train.csv')"
   ]
  },
  {
   "cell_type": "code",
   "execution_count": 55,
   "id": "68a86a4b",
   "metadata": {},
   "outputs": [
    {
     "data": {
      "text/html": [
       "<div>\n",
       "<style scoped>\n",
       "    .dataframe tbody tr th:only-of-type {\n",
       "        vertical-align: middle;\n",
       "    }\n",
       "\n",
       "    .dataframe tbody tr th {\n",
       "        vertical-align: top;\n",
       "    }\n",
       "\n",
       "    .dataframe thead th {\n",
       "        text-align: right;\n",
       "    }\n",
       "</style>\n",
       "<table border=\"1\" class=\"dataframe\">\n",
       "  <thead>\n",
       "    <tr style=\"text-align: right;\">\n",
       "      <th></th>\n",
       "      <th>Id</th>\n",
       "      <th>Subject Focus</th>\n",
       "      <th>Eyes</th>\n",
       "      <th>Face</th>\n",
       "      <th>Near</th>\n",
       "      <th>Action</th>\n",
       "      <th>Accessory</th>\n",
       "      <th>Group</th>\n",
       "      <th>Collage</th>\n",
       "      <th>Human</th>\n",
       "      <th>Occlusion</th>\n",
       "      <th>Info</th>\n",
       "      <th>Blur</th>\n",
       "      <th>Pawpularity</th>\n",
       "    </tr>\n",
       "  </thead>\n",
       "  <tbody>\n",
       "    <tr>\n",
       "      <th>0</th>\n",
       "      <td>0007de18844b0dbbb5e1f607da0606e0</td>\n",
       "      <td>0</td>\n",
       "      <td>1</td>\n",
       "      <td>1</td>\n",
       "      <td>1</td>\n",
       "      <td>0</td>\n",
       "      <td>0</td>\n",
       "      <td>1</td>\n",
       "      <td>0</td>\n",
       "      <td>0</td>\n",
       "      <td>0</td>\n",
       "      <td>0</td>\n",
       "      <td>0</td>\n",
       "      <td>63</td>\n",
       "    </tr>\n",
       "    <tr>\n",
       "      <th>1</th>\n",
       "      <td>0009c66b9439883ba2750fb825e1d7db</td>\n",
       "      <td>0</td>\n",
       "      <td>1</td>\n",
       "      <td>1</td>\n",
       "      <td>0</td>\n",
       "      <td>0</td>\n",
       "      <td>0</td>\n",
       "      <td>0</td>\n",
       "      <td>0</td>\n",
       "      <td>0</td>\n",
       "      <td>0</td>\n",
       "      <td>0</td>\n",
       "      <td>0</td>\n",
       "      <td>42</td>\n",
       "    </tr>\n",
       "    <tr>\n",
       "      <th>2</th>\n",
       "      <td>0013fd999caf9a3efe1352ca1b0d937e</td>\n",
       "      <td>0</td>\n",
       "      <td>1</td>\n",
       "      <td>1</td>\n",
       "      <td>1</td>\n",
       "      <td>0</td>\n",
       "      <td>0</td>\n",
       "      <td>0</td>\n",
       "      <td>0</td>\n",
       "      <td>1</td>\n",
       "      <td>1</td>\n",
       "      <td>0</td>\n",
       "      <td>0</td>\n",
       "      <td>28</td>\n",
       "    </tr>\n",
       "    <tr>\n",
       "      <th>3</th>\n",
       "      <td>0018df346ac9c1d8413cfcc888ca8246</td>\n",
       "      <td>0</td>\n",
       "      <td>1</td>\n",
       "      <td>1</td>\n",
       "      <td>1</td>\n",
       "      <td>0</td>\n",
       "      <td>0</td>\n",
       "      <td>0</td>\n",
       "      <td>0</td>\n",
       "      <td>0</td>\n",
       "      <td>0</td>\n",
       "      <td>0</td>\n",
       "      <td>0</td>\n",
       "      <td>15</td>\n",
       "    </tr>\n",
       "    <tr>\n",
       "      <th>4</th>\n",
       "      <td>001dc955e10590d3ca4673f034feeef2</td>\n",
       "      <td>0</td>\n",
       "      <td>0</td>\n",
       "      <td>0</td>\n",
       "      <td>1</td>\n",
       "      <td>0</td>\n",
       "      <td>0</td>\n",
       "      <td>1</td>\n",
       "      <td>0</td>\n",
       "      <td>0</td>\n",
       "      <td>0</td>\n",
       "      <td>0</td>\n",
       "      <td>0</td>\n",
       "      <td>72</td>\n",
       "    </tr>\n",
       "  </tbody>\n",
       "</table>\n",
       "</div>"
      ],
      "text/plain": [
       "                                 Id  Subject Focus  Eyes  Face  Near  Action  \\\n",
       "0  0007de18844b0dbbb5e1f607da0606e0              0     1     1     1       0   \n",
       "1  0009c66b9439883ba2750fb825e1d7db              0     1     1     0       0   \n",
       "2  0013fd999caf9a3efe1352ca1b0d937e              0     1     1     1       0   \n",
       "3  0018df346ac9c1d8413cfcc888ca8246              0     1     1     1       0   \n",
       "4  001dc955e10590d3ca4673f034feeef2              0     0     0     1       0   \n",
       "\n",
       "   Accessory  Group  Collage  Human  Occlusion  Info  Blur  Pawpularity  \n",
       "0          0      1        0      0          0     0     0           63  \n",
       "1          0      0        0      0          0     0     0           42  \n",
       "2          0      0        0      1          1     0     0           28  \n",
       "3          0      0        0      0          0     0     0           15  \n",
       "4          0      1        0      0          0     0     0           72  "
      ]
     },
     "execution_count": 55,
     "metadata": {},
     "output_type": "execute_result"
    }
   ],
   "source": [
    "#show data header\n",
    "meta_data.head()"
   ]
  },
  {
   "cell_type": "code",
   "execution_count": 56,
   "id": "22e27406",
   "metadata": {},
   "outputs": [],
   "source": [
    "#split the data into train and test split so that we can still test our hyperparameters\n",
    "meta_train, meta_test = train_test_split(meta_data, train_size=0.8, test_size=0.2, random_state=10)"
   ]
  },
  {
   "cell_type": "code",
   "execution_count": 57,
   "id": "ff6ad796",
   "metadata": {},
   "outputs": [
    {
     "data": {
      "text/plain": [
       "9161    ecbb48fc9d345f6e2b03deaf8f1645f0\n",
       "9695    fa4a3d69e1e0e21b62bb33538bc54e61\n",
       "9033    e97d059f75a50e9c9805b0dba4d0d84e\n",
       "4617    76420f02afab76d2a6eab95efc816347\n",
       "4220    6bb7f0653725b30118199fd763945713\n",
       "                      ...               \n",
       "6500    a8028d608d5a1916c5482616e5838b6c\n",
       "8934    e6f6665772e5e67240d46d899e01ad78\n",
       "2756    4708f6747261af730735ff0272cfc73e\n",
       "3508    5a7fa7cfeb8d5e32116574e6be7ecb6a\n",
       "3923    6411e12dd43ef887ac45984c01ebf850\n",
       "Name: Id, Length: 1983, dtype: object"
      ]
     },
     "execution_count": 57,
     "metadata": {},
     "output_type": "execute_result"
    }
   ],
   "source": [
    "#split data frames into X_train, y_train, X_test, y_test\n",
    "#assign training labels\n",
    "y_train = meta_train.pop('Pawpularity')\n",
    "#assign training data\n",
    "X_train = meta_train\n",
    "#remove Id from training data\n",
    "X_train.pop('Id')\n",
    "\n",
    "#assign testing labels\n",
    "y_test = meta_test.pop('Pawpularity')\n",
    "#assign testing data\n",
    "X_test = meta_test\n",
    "#remove Ids from testing data\n",
    "X_test.pop('Id')"
   ]
  },
  {
   "cell_type": "code",
   "execution_count": 58,
   "id": "fcd4d79b",
   "metadata": {},
   "outputs": [
    {
     "data": {
      "text/html": [
       "<div>\n",
       "<style scoped>\n",
       "    .dataframe tbody tr th:only-of-type {\n",
       "        vertical-align: middle;\n",
       "    }\n",
       "\n",
       "    .dataframe tbody tr th {\n",
       "        vertical-align: top;\n",
       "    }\n",
       "\n",
       "    .dataframe thead th {\n",
       "        text-align: right;\n",
       "    }\n",
       "</style>\n",
       "<table border=\"1\" class=\"dataframe\">\n",
       "  <thead>\n",
       "    <tr style=\"text-align: right;\">\n",
       "      <th></th>\n",
       "      <th>Subject Focus</th>\n",
       "      <th>Eyes</th>\n",
       "      <th>Face</th>\n",
       "      <th>Near</th>\n",
       "      <th>Action</th>\n",
       "      <th>Accessory</th>\n",
       "      <th>Group</th>\n",
       "      <th>Collage</th>\n",
       "      <th>Human</th>\n",
       "      <th>Occlusion</th>\n",
       "      <th>Info</th>\n",
       "      <th>Blur</th>\n",
       "    </tr>\n",
       "  </thead>\n",
       "  <tbody>\n",
       "    <tr>\n",
       "      <th>6916</th>\n",
       "      <td>0</td>\n",
       "      <td>1</td>\n",
       "      <td>1</td>\n",
       "      <td>1</td>\n",
       "      <td>0</td>\n",
       "      <td>0</td>\n",
       "      <td>0</td>\n",
       "      <td>0</td>\n",
       "      <td>0</td>\n",
       "      <td>0</td>\n",
       "      <td>0</td>\n",
       "      <td>0</td>\n",
       "    </tr>\n",
       "    <tr>\n",
       "      <th>5837</th>\n",
       "      <td>0</td>\n",
       "      <td>1</td>\n",
       "      <td>1</td>\n",
       "      <td>1</td>\n",
       "      <td>0</td>\n",
       "      <td>0</td>\n",
       "      <td>0</td>\n",
       "      <td>0</td>\n",
       "      <td>0</td>\n",
       "      <td>0</td>\n",
       "      <td>0</td>\n",
       "      <td>0</td>\n",
       "    </tr>\n",
       "    <tr>\n",
       "      <th>2600</th>\n",
       "      <td>0</td>\n",
       "      <td>1</td>\n",
       "      <td>1</td>\n",
       "      <td>1</td>\n",
       "      <td>0</td>\n",
       "      <td>0</td>\n",
       "      <td>0</td>\n",
       "      <td>0</td>\n",
       "      <td>0</td>\n",
       "      <td>0</td>\n",
       "      <td>0</td>\n",
       "      <td>0</td>\n",
       "    </tr>\n",
       "    <tr>\n",
       "      <th>2167</th>\n",
       "      <td>0</td>\n",
       "      <td>0</td>\n",
       "      <td>0</td>\n",
       "      <td>0</td>\n",
       "      <td>1</td>\n",
       "      <td>0</td>\n",
       "      <td>1</td>\n",
       "      <td>0</td>\n",
       "      <td>0</td>\n",
       "      <td>1</td>\n",
       "      <td>0</td>\n",
       "      <td>0</td>\n",
       "    </tr>\n",
       "    <tr>\n",
       "      <th>7026</th>\n",
       "      <td>0</td>\n",
       "      <td>1</td>\n",
       "      <td>1</td>\n",
       "      <td>1</td>\n",
       "      <td>0</td>\n",
       "      <td>0</td>\n",
       "      <td>0</td>\n",
       "      <td>0</td>\n",
       "      <td>0</td>\n",
       "      <td>0</td>\n",
       "      <td>0</td>\n",
       "      <td>0</td>\n",
       "    </tr>\n",
       "  </tbody>\n",
       "</table>\n",
       "</div>"
      ],
      "text/plain": [
       "      Subject Focus  Eyes  Face  Near  Action  Accessory  Group  Collage  \\\n",
       "6916              0     1     1     1       0          0      0        0   \n",
       "5837              0     1     1     1       0          0      0        0   \n",
       "2600              0     1     1     1       0          0      0        0   \n",
       "2167              0     0     0     0       1          0      1        0   \n",
       "7026              0     1     1     1       0          0      0        0   \n",
       "\n",
       "      Human  Occlusion  Info  Blur  \n",
       "6916      0          0     0     0  \n",
       "5837      0          0     0     0  \n",
       "2600      0          0     0     0  \n",
       "2167      0          1     0     0  \n",
       "7026      0          0     0     0  "
      ]
     },
     "execution_count": 58,
     "metadata": {},
     "output_type": "execute_result"
    }
   ],
   "source": [
    "#quick look at training data\n",
    "X_train.head()"
   ]
  },
  {
   "cell_type": "code",
   "execution_count": 59,
   "id": "c22619b0",
   "metadata": {},
   "outputs": [
    {
     "data": {
      "text/plain": [
       "6916     6\n",
       "5837    65\n",
       "2600    23\n",
       "2167    20\n",
       "7026     2\n",
       "Name: Pawpularity, dtype: int64"
      ]
     },
     "execution_count": 59,
     "metadata": {},
     "output_type": "execute_result"
    }
   ],
   "source": [
    "#quick look at training labels\n",
    "y_train.head()"
   ]
  },
  {
   "cell_type": "code",
   "execution_count": 61,
   "id": "0c6f7034",
   "metadata": {},
   "outputs": [
    {
     "data": {
      "text/plain": [
       "LinearRegression()"
      ]
     },
     "execution_count": 61,
     "metadata": {},
     "output_type": "execute_result"
    }
   ],
   "source": [
    "#Create a linear regression model\n",
    "lm = LinearRegression()\n",
    "lm.fit(X_train, y_train)"
   ]
  },
  {
   "cell_type": "code",
   "execution_count": 62,
   "id": "5d75fae4",
   "metadata": {},
   "outputs": [
    {
     "name": "stdout",
     "output_type": "stream",
     "text": [
      "0.0020122486417494256\n",
      "15.20007403789931\n"
     ]
    },
    {
     "data": {
      "text/plain": [
       "20.405777172912124"
      ]
     },
     "execution_count": 62,
     "metadata": {},
     "output_type": "execute_result"
    }
   ],
   "source": [
    "#above cell started at 7:11PM and ended around 7:20\n",
    "y_pred_lin_reg = lm.predict(X_test)\n",
    "\n",
    "#calculate R squared value\n",
    "r2 = sklearn.metrics.r2_score(y_test, y_pred_lin_reg)\n",
    "print(r2)\n",
    "#calculate mean absolute error\n",
    "neg_mean_abs_err = sklearn.metrics.mean_absolute_error(y_test, y_pred_lin_reg)\n",
    "print(neg_mean_abs_err)\n",
    "#calculate root mean square error\n",
    "lin_reg_RMSE = math.sqrt(sklearn.metrics.mean_squared_error(y_test, y_pred_lin_reg))\n",
    "lin_reg_RMSE"
   ]
  },
  {
   "cell_type": "markdown",
   "id": "4e59e9ce",
   "metadata": {},
   "source": [
    "**Attmepting Cross Validation Scoring**"
   ]
  },
  {
   "cell_type": "code",
   "execution_count": 63,
   "id": "7473a9c7",
   "metadata": {},
   "outputs": [
    {
     "data": {
      "text/plain": [
       "array([-20.82178305, -19.92767999, -20.75745571, -21.06901215,\n",
       "       -20.66647169])"
      ]
     },
     "execution_count": 63,
     "metadata": {},
     "output_type": "execute_result"
    }
   ],
   "source": [
    "#get RMSE score using cross validation\n",
    "lm_scores = cross_val_score(lm, X_train, y_train, scoring='neg_root_mean_squared_error', cv=5)\n",
    "lm_scores  "
   ]
  },
  {
   "cell_type": "markdown",
   "id": "28742c51",
   "metadata": {},
   "source": [
    "**Lets also try L2 regularization using ridge regression, which minimizes the loss function of linear least squares. The following tests multiple alpha values, fitting the model for each value of alpha as it runs over the for loop**"
   ]
  },
  {
   "cell_type": "code",
   "execution_count": 50,
   "id": "f40f4fa0",
   "metadata": {},
   "outputs": [
    {
     "name": "stdout",
     "output_type": "stream",
     "text": [
      "--------------------\n",
      "Alpha: 0.001\n",
      "R^2: 0.002012237843247666\n",
      "Neg. Mean Abs. Error: 15.200074073392154\n",
      "RMSE: 20.405777283310183\n",
      "--------------------\n",
      "Alpha: 0.1\n",
      "R^2: 0.00201116907894594\n",
      "Neg. Mean Abs. Error: 15.200077584783395\n",
      "RMSE: 20.405788209777068\n",
      "--------------------\n",
      "Alpha: 1\n",
      "R^2: 0.0020014791683298228\n",
      "Neg. Mean Abs. Error: 15.200109289408063\n",
      "RMSE: 20.405887273903698\n",
      "--------------------\n",
      "Alpha: 2\n",
      "R^2: 0.0019907679298079017\n",
      "Neg. Mean Abs. Error: 15.200144061614234\n",
      "RMSE: 20.405996778945447\n",
      "--------------------\n",
      "Alpha: 5\n",
      "R^2: 0.0019589849859891206\n",
      "Neg. Mean Abs. Error: 15.20024555990199\n",
      "RMSE: 20.406321704539742\n"
     ]
    }
   ],
   "source": [
    "#list of alphas to test\n",
    "alpha = [0.001, 0.1, 1, 2, 5]\n",
    "\n",
    "#loop over each value of alpha, fit model, print results\n",
    "for i in alpha:\n",
    "    ridge = Ridge(alpha=i)\n",
    "    ridge.fit(X_train, y_train)\n",
    "    y_pred_ridge = ridge.predict(X_test)\n",
    "    print('-'*20)\n",
    "    print('Alpha: '+str(i))\n",
    "    r2_ridge = sklearn.metrics.r2_score(y_test, y_pred_ridge)\n",
    "    print('R^2: '+str(r2_ridge))\n",
    "    neg_mean_abs_err_ridge = sklearn.metrics.mean_absolute_error(y_test, y_pred_ridge)\n",
    "    print('Neg. Mean Abs. Error: '+str(neg_mean_abs_err_ridge))\n",
    "    RMSE_ridge = math.sqrt(sklearn.metrics.mean_squared_error(y_test, y_pred_ridge))\n",
    "    print('RMSE: '+str(RMSE_ridge))"
   ]
  },
  {
   "cell_type": "markdown",
   "id": "7147960e",
   "metadata": {},
   "source": [
    "**Lets try fitting the Ridge model with the best alpha from above and running the cross validation score function**"
   ]
  },
  {
   "cell_type": "code",
   "execution_count": 64,
   "id": "21b6ea8e",
   "metadata": {},
   "outputs": [
    {
     "data": {
      "text/plain": [
       "array([-20.82178284, -19.92767993, -20.75745556, -21.06901208,\n",
       "       -20.66647163])"
      ]
     },
     "execution_count": 64,
     "metadata": {},
     "output_type": "execute_result"
    }
   ],
   "source": [
    "#calculating RMSE on ridge model using cross validation (L2 regularization)\n",
    "ridge = Ridge(alpha=0.001)\n",
    "ridge_scores = cross_val_score(ridge, X_train, y_train, scoring='neg_root_mean_squared_error', cv=5)\n",
    "ridge_scores "
   ]
  },
  {
   "cell_type": "markdown",
   "id": "8674e038",
   "metadata": {},
   "source": [
    "**Lets also try the lasso**"
   ]
  },
  {
   "cell_type": "code",
   "execution_count": 52,
   "id": "c577e15c",
   "metadata": {},
   "outputs": [
    {
     "name": "stdout",
     "output_type": "stream",
     "text": [
      "--------------------\n",
      "Alpha: 0.001\n",
      "R^2: 0.0020368144345211947\n",
      "Neg. Mean Abs. Error: 15.199691709677248\n",
      "RMSE: 20.40552602394885\n",
      "--------------------\n",
      "Alpha: 0.1\n",
      "R^2: -3.27384141818321e-05\n",
      "Neg. Mean Abs. Error: 15.206452322861185\n",
      "RMSE: 20.426673318625596\n",
      "--------------------\n",
      "Alpha: 1\n",
      "R^2: -0.0002483024606003692\n",
      "Neg. Mean Abs. Error: 15.205877083472856\n",
      "RMSE: 20.428874756100438\n",
      "--------------------\n",
      "Alpha: 2\n",
      "R^2: -0.0002483024606003692\n",
      "Neg. Mean Abs. Error: 15.205877083472856\n",
      "RMSE: 20.428874756100438\n",
      "--------------------\n",
      "Alpha: 5\n",
      "R^2: -0.0002483024606003692\n",
      "Neg. Mean Abs. Error: 15.205877083472856\n",
      "RMSE: 20.428874756100438\n"
     ]
    }
   ],
   "source": [
    "#list of alphas to test\n",
    "alpha = [0.001, 0.1, 1, 2, 5]\n",
    "\n",
    "#loop over each value of alpha, fit model, print results\n",
    "for i in alpha:\n",
    "    lasso = Lasso(alpha=i)\n",
    "    lasso.fit(X_train, y_train)\n",
    "    y_pred_lasso = lasso.predict(X_test)\n",
    "    print('-'*20)\n",
    "    print('Alpha: '+str(i))\n",
    "    r2_lasso = sklearn.metrics.r2_score(y_test, y_pred_lasso)\n",
    "    print('R^2: '+str(r2_lasso))\n",
    "    neg_mean_abs_err_lasso = sklearn.metrics.mean_absolute_error(y_test, y_pred_lasso)\n",
    "    print('Neg. Mean Abs. Error: '+str(neg_mean_abs_err_lasso))\n",
    "    RMSE_lasso = math.sqrt(sklearn.metrics.mean_squared_error(y_test, y_pred_lasso))\n",
    "    print('RMSE: '+str(RMSE_lasso))"
   ]
  },
  {
   "cell_type": "markdown",
   "id": "7993e8dd",
   "metadata": {},
   "source": [
    "**Compute cross validation scores on lasso model**"
   ]
  },
  {
   "cell_type": "code",
   "execution_count": 65,
   "id": "f7fdcf8f",
   "metadata": {},
   "outputs": [
    {
     "data": {
      "text/plain": [
       "array([-20.82056275, -19.92707415, -20.75680592, -21.06863568,\n",
       "       -20.66599196])"
      ]
     },
     "execution_count": 65,
     "metadata": {},
     "output_type": "execute_result"
    }
   ],
   "source": [
    "#calculating RMSE on lasso model using cross validation (L1 regularization)\n",
    "lasso = Lasso(alpha=0.001)\n",
    "lasso_scores = cross_val_score(lasso, X_train, y_train, scoring='neg_root_mean_squared_error', cv=5)\n",
    "lasso_scores "
   ]
  },
  {
   "cell_type": "markdown",
   "id": "a4a05180",
   "metadata": {},
   "source": [
    "**Logistic Regression Attempt (just for fun > I did not think it would perform well due to the large number of labels**"
   ]
  },
  {
   "cell_type": "code",
   "execution_count": 30,
   "id": "6ee0ba35",
   "metadata": {},
   "outputs": [
    {
     "data": {
      "text/plain": [
       "LogisticRegression(random_state=0)"
      ]
     },
     "execution_count": 30,
     "metadata": {},
     "output_type": "execute_result"
    }
   ],
   "source": [
    "#build and fit model\n",
    "lr = LogisticRegression(random_state=0)\n",
    "lr.fit(X_train, y_train)"
   ]
  },
  {
   "cell_type": "code",
   "execution_count": 31,
   "id": "bbd37fba",
   "metadata": {},
   "outputs": [],
   "source": [
    "y_pred = lr.predict(X_test)"
   ]
  },
  {
   "cell_type": "code",
   "execution_count": 36,
   "id": "4a3a73af",
   "metadata": {},
   "outputs": [
    {
     "data": {
      "text/plain": [
       "0.012483017046184233"
      ]
     },
     "execution_count": 36,
     "metadata": {},
     "output_type": "execute_result"
    }
   ],
   "source": [
    "f1score = sklearn.metrics.f1_score(y_test, y_pred, average='weighted')\n",
    "f1score"
   ]
  },
  {
   "cell_type": "code",
   "execution_count": null,
   "id": "c5a64a15",
   "metadata": {},
   "outputs": [],
   "source": []
  }
 ],
 "metadata": {
  "kernelspec": {
   "display_name": "Python 3",
   "language": "python",
   "name": "python3"
  },
  "language_info": {
   "codemirror_mode": {
    "name": "ipython",
    "version": 3
   },
   "file_extension": ".py",
   "mimetype": "text/x-python",
   "name": "python",
   "nbconvert_exporter": "python",
   "pygments_lexer": "ipython3",
   "version": "3.8.8"
  }
 },
 "nbformat": 4,
 "nbformat_minor": 5
}
