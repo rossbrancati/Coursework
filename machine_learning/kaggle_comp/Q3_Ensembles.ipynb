{
 "cells": [
  {
   "cell_type": "markdown",
   "id": "ee16d086",
   "metadata": {},
   "source": [
    "**Ensemble Model Approach**"
   ]
  },
  {
   "cell_type": "code",
   "execution_count": 160,
   "id": "0ef91547",
   "metadata": {},
   "outputs": [],
   "source": [
    "#import libraries\n",
    "import numpy as np\n",
    "import pandas as pd\n",
    "import matplotlib.pyplot as plt \n",
    "import seaborn as sns\n",
    "import re\n",
    "\n",
    "import math\n",
    "import sklearn\n",
    "from sklearn.model_selection import train_test_split\n",
    "from sklearn.preprocessing import MinMaxScaler\n",
    "from sklearn.ensemble import RandomForestClassifier\n",
    "from sklearn.svm import LinearSVC\n",
    "from sklearn.svm import SVC\n",
    "from sklearn.linear_model import LogisticRegression\n",
    "from sklearn.linear_model import LinearRegression\n",
    "from sklearn.neighbors import KNeighborsClassifier\n",
    "from sklearn.tree import DecisionTreeClassifier\n",
    "from sklearn.preprocessing import StandardScaler\n",
    "from sklearn.ensemble import StackingClassifier\n",
    "from sklearn.model_selection import cross_val_score\n",
    "from sklearn.model_selection import KFold\n",
    "from sklearn.pipeline import make_pipeline\n",
    "from sklearn import metrics\n",
    "\n",
    "import warnings # supress warnings\n",
    "warnings.filterwarnings('ignore')"
   ]
  },
  {
   "cell_type": "code",
   "execution_count": 78,
   "id": "b1cfd248",
   "metadata": {},
   "outputs": [],
   "source": [
    "#import the data\n",
    "meta_data = pd.read_csv('petfinder-pawpularity-score/train.csv')"
   ]
  },
  {
   "cell_type": "code",
   "execution_count": 79,
   "id": "68a86a4b",
   "metadata": {},
   "outputs": [
    {
     "data": {
      "text/html": [
       "<div>\n",
       "<style scoped>\n",
       "    .dataframe tbody tr th:only-of-type {\n",
       "        vertical-align: middle;\n",
       "    }\n",
       "\n",
       "    .dataframe tbody tr th {\n",
       "        vertical-align: top;\n",
       "    }\n",
       "\n",
       "    .dataframe thead th {\n",
       "        text-align: right;\n",
       "    }\n",
       "</style>\n",
       "<table border=\"1\" class=\"dataframe\">\n",
       "  <thead>\n",
       "    <tr style=\"text-align: right;\">\n",
       "      <th></th>\n",
       "      <th>Id</th>\n",
       "      <th>Subject Focus</th>\n",
       "      <th>Eyes</th>\n",
       "      <th>Face</th>\n",
       "      <th>Near</th>\n",
       "      <th>Action</th>\n",
       "      <th>Accessory</th>\n",
       "      <th>Group</th>\n",
       "      <th>Collage</th>\n",
       "      <th>Human</th>\n",
       "      <th>Occlusion</th>\n",
       "      <th>Info</th>\n",
       "      <th>Blur</th>\n",
       "      <th>Pawpularity</th>\n",
       "    </tr>\n",
       "  </thead>\n",
       "  <tbody>\n",
       "    <tr>\n",
       "      <th>0</th>\n",
       "      <td>0007de18844b0dbbb5e1f607da0606e0</td>\n",
       "      <td>0</td>\n",
       "      <td>1</td>\n",
       "      <td>1</td>\n",
       "      <td>1</td>\n",
       "      <td>0</td>\n",
       "      <td>0</td>\n",
       "      <td>1</td>\n",
       "      <td>0</td>\n",
       "      <td>0</td>\n",
       "      <td>0</td>\n",
       "      <td>0</td>\n",
       "      <td>0</td>\n",
       "      <td>63</td>\n",
       "    </tr>\n",
       "    <tr>\n",
       "      <th>1</th>\n",
       "      <td>0009c66b9439883ba2750fb825e1d7db</td>\n",
       "      <td>0</td>\n",
       "      <td>1</td>\n",
       "      <td>1</td>\n",
       "      <td>0</td>\n",
       "      <td>0</td>\n",
       "      <td>0</td>\n",
       "      <td>0</td>\n",
       "      <td>0</td>\n",
       "      <td>0</td>\n",
       "      <td>0</td>\n",
       "      <td>0</td>\n",
       "      <td>0</td>\n",
       "      <td>42</td>\n",
       "    </tr>\n",
       "    <tr>\n",
       "      <th>2</th>\n",
       "      <td>0013fd999caf9a3efe1352ca1b0d937e</td>\n",
       "      <td>0</td>\n",
       "      <td>1</td>\n",
       "      <td>1</td>\n",
       "      <td>1</td>\n",
       "      <td>0</td>\n",
       "      <td>0</td>\n",
       "      <td>0</td>\n",
       "      <td>0</td>\n",
       "      <td>1</td>\n",
       "      <td>1</td>\n",
       "      <td>0</td>\n",
       "      <td>0</td>\n",
       "      <td>28</td>\n",
       "    </tr>\n",
       "    <tr>\n",
       "      <th>3</th>\n",
       "      <td>0018df346ac9c1d8413cfcc888ca8246</td>\n",
       "      <td>0</td>\n",
       "      <td>1</td>\n",
       "      <td>1</td>\n",
       "      <td>1</td>\n",
       "      <td>0</td>\n",
       "      <td>0</td>\n",
       "      <td>0</td>\n",
       "      <td>0</td>\n",
       "      <td>0</td>\n",
       "      <td>0</td>\n",
       "      <td>0</td>\n",
       "      <td>0</td>\n",
       "      <td>15</td>\n",
       "    </tr>\n",
       "    <tr>\n",
       "      <th>4</th>\n",
       "      <td>001dc955e10590d3ca4673f034feeef2</td>\n",
       "      <td>0</td>\n",
       "      <td>0</td>\n",
       "      <td>0</td>\n",
       "      <td>1</td>\n",
       "      <td>0</td>\n",
       "      <td>0</td>\n",
       "      <td>1</td>\n",
       "      <td>0</td>\n",
       "      <td>0</td>\n",
       "      <td>0</td>\n",
       "      <td>0</td>\n",
       "      <td>0</td>\n",
       "      <td>72</td>\n",
       "    </tr>\n",
       "  </tbody>\n",
       "</table>\n",
       "</div>"
      ],
      "text/plain": [
       "                                 Id  Subject Focus  Eyes  Face  Near  Action  \\\n",
       "0  0007de18844b0dbbb5e1f607da0606e0              0     1     1     1       0   \n",
       "1  0009c66b9439883ba2750fb825e1d7db              0     1     1     0       0   \n",
       "2  0013fd999caf9a3efe1352ca1b0d937e              0     1     1     1       0   \n",
       "3  0018df346ac9c1d8413cfcc888ca8246              0     1     1     1       0   \n",
       "4  001dc955e10590d3ca4673f034feeef2              0     0     0     1       0   \n",
       "\n",
       "   Accessory  Group  Collage  Human  Occlusion  Info  Blur  Pawpularity  \n",
       "0          0      1        0      0          0     0     0           63  \n",
       "1          0      0        0      0          0     0     0           42  \n",
       "2          0      0        0      1          1     0     0           28  \n",
       "3          0      0        0      0          0     0     0           15  \n",
       "4          0      1        0      0          0     0     0           72  "
      ]
     },
     "execution_count": 79,
     "metadata": {},
     "output_type": "execute_result"
    }
   ],
   "source": [
    "meta_data.head()"
   ]
  },
  {
   "cell_type": "code",
   "execution_count": 80,
   "id": "22e27406",
   "metadata": {},
   "outputs": [],
   "source": [
    "#split the data into train and test split so that we can still test our hyperparameters\n",
    "meta_train, meta_test = train_test_split(meta_data, train_size=0.8, test_size=0.2, random_state=10)"
   ]
  },
  {
   "cell_type": "code",
   "execution_count": 81,
   "id": "ff6ad796",
   "metadata": {},
   "outputs": [
    {
     "data": {
      "text/plain": [
       "9161    ecbb48fc9d345f6e2b03deaf8f1645f0\n",
       "9695    fa4a3d69e1e0e21b62bb33538bc54e61\n",
       "9033    e97d059f75a50e9c9805b0dba4d0d84e\n",
       "4617    76420f02afab76d2a6eab95efc816347\n",
       "4220    6bb7f0653725b30118199fd763945713\n",
       "                      ...               \n",
       "6500    a8028d608d5a1916c5482616e5838b6c\n",
       "8934    e6f6665772e5e67240d46d899e01ad78\n",
       "2756    4708f6747261af730735ff0272cfc73e\n",
       "3508    5a7fa7cfeb8d5e32116574e6be7ecb6a\n",
       "3923    6411e12dd43ef887ac45984c01ebf850\n",
       "Name: Id, Length: 1983, dtype: object"
      ]
     },
     "execution_count": 81,
     "metadata": {},
     "output_type": "execute_result"
    }
   ],
   "source": [
    "#split data frames into X_train, y_train, X_test, y_test\n",
    "#assign training labels\n",
    "y_train = meta_train.pop('Pawpularity')\n",
    "#assign training data\n",
    "X_train = meta_train\n",
    "#remove Ids from training data\n",
    "X_train.pop('Id')\n",
    "\n",
    "#assign testing labels\n",
    "y_test = meta_test.pop('Pawpularity')\n",
    "#assign testing data\n",
    "X_test = meta_test\n",
    "#remove Ids from testing data\n",
    "X_test.pop('Id')"
   ]
  },
  {
   "cell_type": "code",
   "execution_count": 82,
   "id": "fcd4d79b",
   "metadata": {},
   "outputs": [
    {
     "data": {
      "text/html": [
       "<div>\n",
       "<style scoped>\n",
       "    .dataframe tbody tr th:only-of-type {\n",
       "        vertical-align: middle;\n",
       "    }\n",
       "\n",
       "    .dataframe tbody tr th {\n",
       "        vertical-align: top;\n",
       "    }\n",
       "\n",
       "    .dataframe thead th {\n",
       "        text-align: right;\n",
       "    }\n",
       "</style>\n",
       "<table border=\"1\" class=\"dataframe\">\n",
       "  <thead>\n",
       "    <tr style=\"text-align: right;\">\n",
       "      <th></th>\n",
       "      <th>Subject Focus</th>\n",
       "      <th>Eyes</th>\n",
       "      <th>Face</th>\n",
       "      <th>Near</th>\n",
       "      <th>Action</th>\n",
       "      <th>Accessory</th>\n",
       "      <th>Group</th>\n",
       "      <th>Collage</th>\n",
       "      <th>Human</th>\n",
       "      <th>Occlusion</th>\n",
       "      <th>Info</th>\n",
       "      <th>Blur</th>\n",
       "    </tr>\n",
       "  </thead>\n",
       "  <tbody>\n",
       "    <tr>\n",
       "      <th>6916</th>\n",
       "      <td>0</td>\n",
       "      <td>1</td>\n",
       "      <td>1</td>\n",
       "      <td>1</td>\n",
       "      <td>0</td>\n",
       "      <td>0</td>\n",
       "      <td>0</td>\n",
       "      <td>0</td>\n",
       "      <td>0</td>\n",
       "      <td>0</td>\n",
       "      <td>0</td>\n",
       "      <td>0</td>\n",
       "    </tr>\n",
       "    <tr>\n",
       "      <th>5837</th>\n",
       "      <td>0</td>\n",
       "      <td>1</td>\n",
       "      <td>1</td>\n",
       "      <td>1</td>\n",
       "      <td>0</td>\n",
       "      <td>0</td>\n",
       "      <td>0</td>\n",
       "      <td>0</td>\n",
       "      <td>0</td>\n",
       "      <td>0</td>\n",
       "      <td>0</td>\n",
       "      <td>0</td>\n",
       "    </tr>\n",
       "    <tr>\n",
       "      <th>2600</th>\n",
       "      <td>0</td>\n",
       "      <td>1</td>\n",
       "      <td>1</td>\n",
       "      <td>1</td>\n",
       "      <td>0</td>\n",
       "      <td>0</td>\n",
       "      <td>0</td>\n",
       "      <td>0</td>\n",
       "      <td>0</td>\n",
       "      <td>0</td>\n",
       "      <td>0</td>\n",
       "      <td>0</td>\n",
       "    </tr>\n",
       "    <tr>\n",
       "      <th>2167</th>\n",
       "      <td>0</td>\n",
       "      <td>0</td>\n",
       "      <td>0</td>\n",
       "      <td>0</td>\n",
       "      <td>1</td>\n",
       "      <td>0</td>\n",
       "      <td>1</td>\n",
       "      <td>0</td>\n",
       "      <td>0</td>\n",
       "      <td>1</td>\n",
       "      <td>0</td>\n",
       "      <td>0</td>\n",
       "    </tr>\n",
       "    <tr>\n",
       "      <th>7026</th>\n",
       "      <td>0</td>\n",
       "      <td>1</td>\n",
       "      <td>1</td>\n",
       "      <td>1</td>\n",
       "      <td>0</td>\n",
       "      <td>0</td>\n",
       "      <td>0</td>\n",
       "      <td>0</td>\n",
       "      <td>0</td>\n",
       "      <td>0</td>\n",
       "      <td>0</td>\n",
       "      <td>0</td>\n",
       "    </tr>\n",
       "  </tbody>\n",
       "</table>\n",
       "</div>"
      ],
      "text/plain": [
       "      Subject Focus  Eyes  Face  Near  Action  Accessory  Group  Collage  \\\n",
       "6916              0     1     1     1       0          0      0        0   \n",
       "5837              0     1     1     1       0          0      0        0   \n",
       "2600              0     1     1     1       0          0      0        0   \n",
       "2167              0     0     0     0       1          0      1        0   \n",
       "7026              0     1     1     1       0          0      0        0   \n",
       "\n",
       "      Human  Occlusion  Info  Blur  \n",
       "6916      0          0     0     0  \n",
       "5837      0          0     0     0  \n",
       "2600      0          0     0     0  \n",
       "2167      0          1     0     0  \n",
       "7026      0          0     0     0  "
      ]
     },
     "execution_count": 82,
     "metadata": {},
     "output_type": "execute_result"
    }
   ],
   "source": [
    "#quick view of training data\n",
    "X_train.head()"
   ]
  },
  {
   "cell_type": "code",
   "execution_count": 83,
   "id": "c22619b0",
   "metadata": {},
   "outputs": [
    {
     "data": {
      "text/plain": [
       "6916     6\n",
       "5837    65\n",
       "2600    23\n",
       "2167    20\n",
       "7026     2\n",
       "Name: Pawpularity, dtype: int64"
      ]
     },
     "execution_count": 83,
     "metadata": {},
     "output_type": "execute_result"
    }
   ],
   "source": [
    "#quick view of testing data\n",
    "y_train.head()"
   ]
  },
  {
   "cell_type": "markdown",
   "id": "99875fca",
   "metadata": {},
   "source": [
    "**Ensemble Classifier 1:**\n",
    "1. Random Forest\n",
    "2. SVM with RBF Kernel\n",
    "3. Logistic Regression"
   ]
  },
  {
   "cell_type": "code",
   "execution_count": 130,
   "id": "0c6f7034",
   "metadata": {},
   "outputs": [],
   "source": [
    "#Create Ensemble Model 1\n",
    "estimators = [('rf', RandomForestClassifier(n_estimators=10, random_state=42)), ('svr', make_pipeline(StandardScaler(), SVC(kernel='rbf',random_state=42)))]\n",
    "clf_1 = StackingClassifier(estimators=estimators, final_estimator=LogisticRegression())"
   ]
  },
  {
   "cell_type": "code",
   "execution_count": 131,
   "id": "86c166a0",
   "metadata": {},
   "outputs": [
    {
     "data": {
      "text/plain": [
       "StackingClassifier(estimators=[('rf',\n",
       "                                RandomForestClassifier(n_estimators=10,\n",
       "                                                       random_state=42)),\n",
       "                               ('svr',\n",
       "                                Pipeline(steps=[('standardscaler',\n",
       "                                                 StandardScaler()),\n",
       "                                                ('svc',\n",
       "                                                 SVC(random_state=42))]))],\n",
       "                   final_estimator=LogisticRegression())"
      ]
     },
     "execution_count": 131,
     "metadata": {},
     "output_type": "execute_result"
    }
   ],
   "source": [
    "#fit the model with the training data and labels\n",
    "clf_1.fit(X_train, y_train)"
   ]
  },
  {
   "cell_type": "code",
   "execution_count": 132,
   "id": "d2da2641",
   "metadata": {},
   "outputs": [],
   "source": [
    "#generate predictions on the test data set\n",
    "y_pred_1 = clf_1.predict(X_test)"
   ]
  },
  {
   "cell_type": "code",
   "execution_count": 133,
   "id": "74adc035",
   "metadata": {},
   "outputs": [
    {
     "name": "stdout",
     "output_type": "stream",
     "text": [
      "RMSE: \n",
      "23.183051088914624\n"
     ]
    }
   ],
   "source": [
    "#calculate RMSE\n",
    "RMSE_1 = math.sqrt(sklearn.metrics.mean_squared_error(y_test, y_pred_1))\n",
    "print('RMSE: ')\n",
    "print(RMSE_1)"
   ]
  },
  {
   "cell_type": "markdown",
   "id": "151e50f5",
   "metadata": {},
   "source": [
    "**Ensemble Classifier 2:**\n",
    "1. Random Forest\n",
    "2. SVM with Linear Kernel"
   ]
  },
  {
   "cell_type": "code",
   "execution_count": 142,
   "id": "140888c7",
   "metadata": {},
   "outputs": [],
   "source": [
    "#Create Ensemble Model 2\n",
    "estimators = [('rf', RandomForestClassifier(n_estimators=10, random_state=42))]\n",
    "clf_2 = StackingClassifier(estimators=estimators, final_estimator=SVC(kernel='linear'))"
   ]
  },
  {
   "cell_type": "code",
   "execution_count": 143,
   "id": "40ed5582",
   "metadata": {},
   "outputs": [
    {
     "data": {
      "text/plain": [
       "StackingClassifier(estimators=[('rf',\n",
       "                                RandomForestClassifier(n_estimators=50,\n",
       "                                                       random_state=42))],\n",
       "                   final_estimator=SVC(kernel='linear'))"
      ]
     },
     "execution_count": 143,
     "metadata": {},
     "output_type": "execute_result"
    }
   ],
   "source": [
    "#fit the model with the training data and labels\n",
    "clf_2.fit(X_train, y_train)"
   ]
  },
  {
   "cell_type": "code",
   "execution_count": 144,
   "id": "f74f538a",
   "metadata": {},
   "outputs": [],
   "source": [
    "#generate predictions on the test data set\n",
    "y_pred_2 = clf_2.predict(X_test)"
   ]
  },
  {
   "cell_type": "code",
   "execution_count": 145,
   "id": "9b518ac9",
   "metadata": {},
   "outputs": [
    {
     "name": "stdout",
     "output_type": "stream",
     "text": [
      "RMSE: \n",
      "21.69115726697019\n"
     ]
    }
   ],
   "source": [
    "#calculate RMSE\n",
    "RMSE_2 = math.sqrt(sklearn.metrics.mean_squared_error(y_test, y_pred_2))\n",
    "print('RMSE: ')\n",
    "print(RMSE_2)"
   ]
  },
  {
   "cell_type": "markdown",
   "id": "06c65ad1",
   "metadata": {},
   "source": [
    "**Ensemble Classifier 3:**\n",
    "1. Random Forest\n",
    "2. Logistic Regression\n",
    "3. SVM with Linear Kernel"
   ]
  },
  {
   "cell_type": "code",
   "execution_count": 154,
   "id": "6494d771",
   "metadata": {},
   "outputs": [],
   "source": [
    "#Create Ensemble Model 3\n",
    "estimators = [('rf', RandomForestClassifier(n_estimators=10, random_state=42)), ('lr', LogisticRegression())]\n",
    "clf_3 = StackingClassifier(estimators=estimators, final_estimator=SVC(kernel='linear'))"
   ]
  },
  {
   "cell_type": "code",
   "execution_count": 155,
   "id": "434591e5",
   "metadata": {},
   "outputs": [
    {
     "data": {
      "text/plain": [
       "StackingClassifier(estimators=[('rf',\n",
       "                                RandomForestClassifier(n_estimators=10,\n",
       "                                                       random_state=42)),\n",
       "                               ('lr', LogisticRegression())],\n",
       "                   final_estimator=SVC(kernel='linear'))"
      ]
     },
     "execution_count": 155,
     "metadata": {},
     "output_type": "execute_result"
    }
   ],
   "source": [
    "#fit the model with the training data and labels\n",
    "clf_3.fit(X_train, y_train)"
   ]
  },
  {
   "cell_type": "code",
   "execution_count": 158,
   "id": "7b7715ef",
   "metadata": {},
   "outputs": [],
   "source": [
    "#generate predictions on the test data set\n",
    "y_pred_3 = clf_3.predict(X_test)"
   ]
  },
  {
   "cell_type": "code",
   "execution_count": 159,
   "id": "62b4d14c",
   "metadata": {},
   "outputs": [
    {
     "name": "stdout",
     "output_type": "stream",
     "text": [
      "RMSE: \n",
      "21.691110769960467\n"
     ]
    }
   ],
   "source": [
    "#calculate RMSE\n",
    "RMSE_3 = math.sqrt(sklearn.metrics.mean_squared_error(y_test, y_pred_3))\n",
    "print('RMSE: ')\n",
    "print(RMSE_3)"
   ]
  },
  {
   "cell_type": "markdown",
   "id": "1f625edb",
   "metadata": {},
   "source": [
    "**Ensemble Classifier 4:**\n",
    "1. KNN\n",
    "2. Decision Tree\n",
    "3. SVM "
   ]
  },
  {
   "cell_type": "code",
   "execution_count": 176,
   "id": "7edc1f28",
   "metadata": {},
   "outputs": [],
   "source": [
    "#Create Ensemble Model 4\n",
    "estimators = [('knn', KNeighborsClassifier(n_neighbors=1000)), ('dt', DecisionTreeClassifier(max_depth=25))]\n",
    "clf_4 = StackingClassifier(estimators=estimators, final_estimator=SVC(kernel='linear'))"
   ]
  },
  {
   "cell_type": "code",
   "execution_count": 177,
   "id": "3c854b3a",
   "metadata": {},
   "outputs": [
    {
     "data": {
      "text/plain": [
       "StackingClassifier(estimators=[('knn', KNeighborsClassifier(n_neighbors=1000)),\n",
       "                               ('dt', DecisionTreeClassifier(max_depth=25))],\n",
       "                   final_estimator=SVC(kernel='linear'))"
      ]
     },
     "execution_count": 177,
     "metadata": {},
     "output_type": "execute_result"
    }
   ],
   "source": [
    "#fit the model with the training data and labels\n",
    "clf_4.fit(X_train, y_train)"
   ]
  },
  {
   "cell_type": "code",
   "execution_count": 178,
   "id": "2efe3cfa",
   "metadata": {},
   "outputs": [],
   "source": [
    "#generate predictions on the test data set\n",
    "y_pred_4 = clf_4.predict(X_test)"
   ]
  },
  {
   "cell_type": "code",
   "execution_count": 179,
   "id": "039bd20b",
   "metadata": {},
   "outputs": [
    {
     "name": "stdout",
     "output_type": "stream",
     "text": [
      "RMSE: \n",
      "21.697154545717193\n"
     ]
    }
   ],
   "source": [
    "#calculate RMSE\n",
    "RMSE_4 = math.sqrt(sklearn.metrics.mean_squared_error(y_test, y_pred_4))\n",
    "print('RMSE: ')\n",
    "print(RMSE_4)"
   ]
  },
  {
   "cell_type": "markdown",
   "id": "5e7fa619",
   "metadata": {},
   "source": [
    "**Ensemble 5: Only Random Forest**"
   ]
  },
  {
   "cell_type": "code",
   "execution_count": 182,
   "id": "6404cff2",
   "metadata": {},
   "outputs": [
    {
     "data": {
      "text/plain": [
       "RandomForestClassifier(n_estimators=50)"
      ]
     },
     "execution_count": 182,
     "metadata": {},
     "output_type": "execute_result"
    }
   ],
   "source": [
    "clf_5 = RandomForestClassifier(n_estimators=50, criterion='gini')\n",
    "clf_5.fit(X_train, y_train)"
   ]
  },
  {
   "cell_type": "code",
   "execution_count": 183,
   "id": "d4a6f0fc",
   "metadata": {},
   "outputs": [],
   "source": [
    "y_pred_5 = clf_5.predict(X_test)"
   ]
  },
  {
   "cell_type": "code",
   "execution_count": 184,
   "id": "0b00c3c2",
   "metadata": {},
   "outputs": [
    {
     "name": "stdout",
     "output_type": "stream",
     "text": [
      "RMSE: \n",
      "23.87246539708768\n"
     ]
    }
   ],
   "source": [
    "#calculate RMSE\n",
    "RMSE_5 = math.sqrt(sklearn.metrics.mean_squared_error(y_test, y_pred_5))\n",
    "print('RMSE: ')\n",
    "print(RMSE_5)"
   ]
  },
  {
   "cell_type": "code",
   "execution_count": null,
   "id": "756e46a8",
   "metadata": {},
   "outputs": [],
   "source": []
  }
 ],
 "metadata": {
  "kernelspec": {
   "display_name": "Python 3",
   "language": "python",
   "name": "python3"
  },
  "language_info": {
   "codemirror_mode": {
    "name": "ipython",
    "version": 3
   },
   "file_extension": ".py",
   "mimetype": "text/x-python",
   "name": "python",
   "nbconvert_exporter": "python",
   "pygments_lexer": "ipython3",
   "version": "3.8.8"
  }
 },
 "nbformat": 4,
 "nbformat_minor": 5
}
