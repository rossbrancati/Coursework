{
 "cells": [
  {
   "cell_type": "code",
   "execution_count": 3,
   "id": "92998709",
   "metadata": {},
   "outputs": [],
   "source": [
    "#import libraries\n",
    "import os\n",
    "import numpy as np\n",
    "import pandas as pd\n",
    "\n",
    "#image processing\n",
    "from PIL import Image, ImageOps"
   ]
  },
  {
   "cell_type": "code",
   "execution_count": 4,
   "id": "15bf8c3d",
   "metadata": {},
   "outputs": [],
   "source": [
    "#load in the meta data as pandas data frame\n",
    "#create one frame to store data as rgb, another to store it as grayscale\n",
    "meta_train_rgb = pd.read_csv('petfinder-pawpularity-score/train.csv')\n",
    "meta_train_grayscale = pd.read_csv('petfinder-pawpularity-score/train.csv')"
   ]
  },
  {
   "cell_type": "code",
   "execution_count": 12,
   "id": "3529ebba",
   "metadata": {},
   "outputs": [],
   "source": [
    "#create a dummy vector of 0's so that we can vstack with new gray and rgb image vectors\n",
    "gray_image_array_all = np.zeros(8100)\n",
    "rgb_image_array_all = np.zeros(7500)\n",
    "\n",
    "#loop over each for in the pandas data frame to grab the image id\n",
    "for i in range(len(meta_train_grayscale)):\n",
    "    #load image for row of meta data\n",
    "    image = Image.open('petfinder-pawpularity-score/train/'+meta_train_grayscale['Id'][i]+'.jpg')\n",
    "    #convert image to grayscale, resize it, convert to array, and flatten array\n",
    "    gray_image = ImageOps.grayscale(image)\n",
    "    resized_gray_image = gray_image.resize((90, 90))\n",
    "    gray_image_array = np.array(resized_gray_image)\n",
    "    gray_image_flat = gray_image_array.flatten()\n",
    "    #stack the current grayscale image with the dummy vector created above\n",
    "    gray_image_array_all = np.vstack((gray_image_array_all, gray_image_flat))\n",
    "    \n",
    "    #now we will repeat for the RGB images\n",
    "    #resize image, convert to array, and flatten array\n",
    "    resized_rgb_image = image.resize((50, 50))\n",
    "    rgb_image_array = np.array(resized_rgb_image)\n",
    "    rgb_image_flat = rgb_image_array.flatten()\n",
    "    #stack the current grayscale image with the dummy vector created above\n",
    "    rgb_image_array_all = np.vstack((rgb_image_array_all, rgb_image_flat))\n",
    "\n"
   ]
  },
  {
   "cell_type": "code",
   "execution_count": 20,
   "id": "7325f192",
   "metadata": {},
   "outputs": [],
   "source": [
    "#lets export the arrays containing image vectors because the above for loop took about an hour to run\n",
    "np.savetxt(\"petfinder-pawpularity-score/pre_processed_data/pre_processed_images_grayscale.csv\", gray_image_array_all, delimiter=\",\")\n",
    "np.savetxt(\"petfinder-pawpularity-score/pre_processed_data/pre_processed_images_RGB.csv\", rgb_image_array_all, delimiter=\",\")"
   ]
  },
  {
   "cell_type": "code",
   "execution_count": 32,
   "id": "2265b0a9",
   "metadata": {},
   "outputs": [],
   "source": [
    "#remove the first row of zeros the grayscale and RGB arrays\n",
    "gray_image_array_all_ = gray_image_array_all[1:]\n",
    "rgb_image_array_all_ = rgb_image_array_all[1:]"
   ]
  },
  {
   "cell_type": "code",
   "execution_count": 13,
   "id": "1474e328",
   "metadata": {},
   "outputs": [],
   "source": [
    "#next, we need to create column id's so we can convert the np arrays to dataframes to merge with meta data\n",
    "gray_column_ids = []\n",
    "for i in range(8100):\n",
    "    i_str = str(i+1)\n",
    "    gray_column_ids.append('p'+i_str)\n",
    "\n",
    "rgb_column_ids = []\n",
    "for i in range(7500):\n",
    "    i_str = str(i+1)\n",
    "    rgb_column_ids.append('p'+i_str)"
   ]
  },
  {
   "cell_type": "code",
   "execution_count": 33,
   "id": "868847da",
   "metadata": {},
   "outputs": [],
   "source": [
    "#lets create the data frames\n",
    "image_train_rgb = pd.DataFrame(rgb_image_array_all_, columns=rgb_column_ids)\n",
    "image_train_gray = pd.DataFrame(gray_image_array_all_, columns=gray_column_ids)"
   ]
  },
  {
   "cell_type": "code",
   "execution_count": 34,
   "id": "dd20f1b5",
   "metadata": {},
   "outputs": [],
   "source": [
    "#lastly, concatenate the meta data and the image data into one matrix\n",
    "train_data_rgb = pd.concat([meta_train_rgb, image_train_rgb], axis=1)\n",
    "train_data_gray = pd.concat([meta_train_grayscale, image_train_gray], axis=1)"
   ]
  },
  {
   "cell_type": "code",
   "execution_count": 35,
   "id": "f1cc1b58",
   "metadata": {},
   "outputs": [],
   "source": [
    "#and for ease of splitting labels and data, lets move the pawpularity score to the beginning of the data frame\n",
    "rgb_pawpularity = train_data_rgb.pop('Pawpularity')\n",
    "train_data_rgb.insert(0, 'Pawpularity', rgb_pawpularity)\n",
    "gray_pawpularity = train_data_gray.pop('Pawpularity')\n",
    "train_data_gray.insert(0, 'Pawpularity', rgb_pawpularity)\n"
   ]
  },
  {
   "cell_type": "code",
   "execution_count": 40,
   "id": "ae61720e",
   "metadata": {},
   "outputs": [],
   "source": [
    "#export both data frames to csv files\n",
    "train_data_rgb.to_csv('meta_image_rgb_data.csv')"
   ]
  },
  {
   "cell_type": "code",
   "execution_count": 39,
   "id": "eeabc11e",
   "metadata": {},
   "outputs": [],
   "source": [
    "train_data_gray.to_csv('petfinder-pawpularity-score/meta_image_gray_data.csv')"
   ]
  },
  {
   "cell_type": "code",
   "execution_count": null,
   "id": "d73bf633",
   "metadata": {},
   "outputs": [],
   "source": []
  }
 ],
 "metadata": {
  "kernelspec": {
   "display_name": "Python 3",
   "language": "python",
   "name": "python3"
  },
  "language_info": {
   "codemirror_mode": {
    "name": "ipython",
    "version": 3
   },
   "file_extension": ".py",
   "mimetype": "text/x-python",
   "name": "python",
   "nbconvert_exporter": "python",
   "pygments_lexer": "ipython3",
   "version": "3.8.8"
  }
 },
 "nbformat": 4,
 "nbformat_minor": 5
}
